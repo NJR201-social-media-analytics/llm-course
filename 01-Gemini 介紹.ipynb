{
 "cells": [
  {
   "cell_type": "markdown",
   "id": "ec192704",
   "metadata": {},
   "source": [
    "# Google Gemini API 教學\n",
    "\n",
    "## 什麼是 Gemini？\n",
    "\n",
    "Gemini 是 Google 開發的先進 AI 模型，具有以下特點：\n",
    "\n",
    "- 🚀 **快速**: Gemini 2.0 Flash 提供極快的回應速度\n",
    "- 🎯 **準確**: 高品質的文本生成和理解能力\n",
    "- 🔄 **多模態**: 支援文字、圖片、音訊等多種輸入方式\n",
    "- 💡 **智能**: 優秀的推理和創作能力\n",
    "\n",
    "讓我們開始吧！\n"
   ]
  },
  {
   "cell_type": "markdown",
   "id": "85aaad5e",
   "metadata": {},
   "source": [
    "## 1. 環境設定與安裝\n",
    "\n",
    "首先，我們需要安裝 Google Generative AI 函式庫。這是使用 Gemini API 的官方 Python 套件。\n"
   ]
  },
  {
   "cell_type": "code",
   "execution_count": null,
   "id": "b4066a51",
   "metadata": {},
   "outputs": [],
   "source": [
    "# 安裝 Google GenAI 套件（最新版本）和環境變數管理工具\n",
    "# 如果您是第一次使用，請執行下方安裝指令\n",
    "!pip install google-genai python-dotenv"
   ]
  },
  {
   "cell_type": "code",
   "execution_count": 3,
   "id": "a1f7c6b0",
   "metadata": {},
   "outputs": [
    {
     "name": "stdout",
     "output_type": "stream",
     "text": [
      "✅ 套件導入成功！\n"
     ]
    }
   ],
   "source": [
    "# 導入必要的套件\n",
    "import google.genai as genai\n",
    "from google.genai.types import Content, Part\n",
    "import os\n",
    "from typing import List, Dict, Any\n",
    "from dotenv import load_dotenv\n",
    "\n",
    "# 載入環境變數\n",
    "load_dotenv()\n",
    "\n",
    "print(\"✅ 套件導入成功！\")"
   ]
  },
  {
   "cell_type": "markdown",
   "id": "56788725",
   "metadata": {},
   "source": [
    "## 2. API 金鑰配置與環境變數管理\n",
    "\n",
    "為了使用 Gemini API，您需要設定 API 金鑰。我們使用 `.env` 檔案來管理所有設定，這是業界標準做法。\n",
    "\n",
    "### 🔐 安全最佳實踐\n",
    "\n",
    "- ✅ 使用 `.env` 檔案儲存 API 金鑰和模型設定\n",
    "- ✅ 所有專案共用相同的設定檔案\n",
    "- ✅ 統一管理模型版本，避免不一致問題\n",
    "- ❌ 不要在程式碼中直接寫入 API 金鑰\n",
    "- ❌ 不要將 `.env` 檔案上傳到 Git\n"
   ]
  },
  {
   "cell_type": "code",
   "execution_count": 4,
   "id": "ff8d37e0",
   "metadata": {},
   "outputs": [
    {
     "name": "stdout",
     "output_type": "stream",
     "text": [
      "🔑 API 金鑰已讀取\n",
      "🤖 使用模型: gemini-2.0-flash\n",
      "✅ Gemini 客戶端初始化完成！\n"
     ]
    }
   ],
   "source": [
    "import os\n",
    "from google import genai\n",
    "\n",
    "# 從環境變數讀取設定\n",
    "API_KEY = os.getenv('API_KEY')\n",
    "MODEL = os.getenv('MODEL', 'gemini-2.0-flash')\n",
    "\n",
    "if not API_KEY:\n",
    "    print(\"❌ 錯誤：找不到 API 金鑰\")\n",
    "    print(\"請確保 .env 檔案存在並設定了 API_KEY\")\n",
    "else:\n",
    "    print(f\"🔑 API 金鑰已讀取\")\n",
    "    print(f\"🤖 使用模型: {MODEL}\")\n",
    "\n",
    "# 初始化 Gemini 客戶端\n",
    "client = genai.Client(api_key=API_KEY)\n",
    "\n",
    "print(\"✅ Gemini 客戶端初始化完成！\")"
   ]
  },
  {
   "cell_type": "code",
   "execution_count": 5,
   "id": "ac8ff594",
   "metadata": {},
   "outputs": [
    {
     "name": "stdout",
     "output_type": "stream",
     "text": [
      "🤖 測試 gemini-2.0-flash 模型...\n",
      "🧑 用戶: 你好！請用繁體中文自我介紹一下。\n",
      "🤖 Gemini: 您好！我是由 Google 訓練的大型語言模型。簡單來說，我是一個能夠理解和生成人類語言的人工智慧程式。\n",
      "\n",
      "我擅長以下幾件事情：\n",
      "\n",
      "*   **回答您的問題:** 我可以根據我所擁有的知識回答您提出的問題，無論是關於歷史、科學、文學還是其他任何領域。\n",
      "*   **提供資訊:** 我可以提供您需要的資訊，例如天氣預報、新聞摘要、翻譯等等。\n",
      "*   **生成文字:** 我可以根據您的要求生成不同風格和長度的文字，例如文章、詩歌、故事、程式碼等等。\n",
      "*   **與您聊天:** 我可以與您進行自然的對話，回答您的問題，分享我的想法，或者只是陪您聊聊天。\n",
      "\n",
      "總之，我是一個功能強大且用途廣泛的工具，希望能幫助您解決問題，滿足您的需求。很高興認識您！請問我能為您做些什麼呢？\n",
      "\n",
      "\n",
      "✅ gemini-2.0-flash 模型正常工作！\n"
     ]
    }
   ],
   "source": [
    "# 測試 Gemini 是否正常工作\n",
    "print(f\"🤖 測試 {MODEL} 模型...\")\n",
    "\n",
    "# 發送第一個測試訊息\n",
    "response = client.models.generate_content(\n",
    "    model=MODEL,\n",
    "    contents='你好！請用繁體中文自我介紹一下。'\n",
    ")\n",
    "\n",
    "print(f\"🧑 用戶: 你好！請用繁體中文自我介紹一下。\")\n",
    "print(f\"🤖 Gemini: {response.text}\")\n",
    "print(f\"\\n✅ {MODEL} 模型正常工作！\")"
   ]
  },
  {
   "cell_type": "markdown",
   "id": "951c47cb",
   "metadata": {},
   "source": [
    "## 3. 基本對話功能\n",
    "\n",
    "讓我們開始第一次與 Gemini 對話！\n"
   ]
  },
  {
   "cell_type": "code",
   "execution_count": 6,
   "id": "3e3b0125",
   "metadata": {},
   "outputs": [
    {
     "name": "stdout",
     "output_type": "stream",
     "text": [
      "=== 基本對話測試 ===\n",
      "⚠️  注意觀察：每次對話都是獨立的，AI 無法記住之前的內容\n",
      "\n",
      "🧑 用戶: 我叫小華，我是一名老師\n",
      "🤖 Gemini: 你好，小華老師！很高興認識你。請問有什麼我可以幫你的嗎？例如：\n",
      "\n",
      "*   **想跟我聊聊教學上的事情嗎？**\n",
      "*   **想了解什麼教育相關的資訊？**\n",
      "*   **只是想找人聊聊天？**\n",
      "\n",
      "請告訴我你想做什麼，我會盡力協助你。\n",
      "\n",
      "\n",
      "🧑 用戶: 你還記得我的名字嗎？\n",
      "🤖 Gemini: 由於我是一個大型語言模型，沒有記憶功能，所以我無法記住你的名字。請告訴我你的名字，這樣我以後就可以稱呼你了。\n",
      "\n",
      "\n",
      "🧑 用戶: 我的職業是什麼？\n",
      "🤖 Gemini: 要判斷您的職業，我需要您提供更多資訊。請告訴我：\n",
      "\n",
      "*   **您主要的工作內容是什麼？** 您每天或每週的主要任務和職責是什麼？\n",
      "*   **您在哪個行業工作？** 例如，科技、醫療、教育、金融等等。\n",
      "*   **您的職稱是什麼？** （即使您認為職稱不完全準確，也請提供。）\n",
      "*   **您是否主要從事體力勞動、腦力勞動，還是兩者兼具？**\n",
      "*   **您是否需要特定的學歷或資格證書才能從事這項工作？**\n",
      "\n",
      "提供這些資訊可以幫助我更準確地判斷您的職業。\n",
      "\n",
      "\n",
      "❌ 問題：AI 完全不記得之前的對話！\n",
      "💡 原因：每次呼叫 API 都是獨立的，沒有傳送對話歷史\n",
      "🔧 解決方案：我們需要手動管理對話歷史（下一個章節會示範）\n"
     ]
    }
   ],
   "source": [
    "# 基本對話測試 - 展示無法記憶的問題\n",
    "print(\"=== 基本對話測試 ===\")\n",
    "print(\"⚠️  注意觀察：每次對話都是獨立的，AI 無法記住之前的內容\\n\")\n",
    "\n",
    "# 第一個對話 - 自我介紹\n",
    "question1 = \"我叫小華，我是一名老師\"\n",
    "response1 = client.models.generate_content(\n",
    "    model=MODEL,\n",
    "    contents=question1\n",
    ")\n",
    "print(f\"🧑 用戶: {question1}\")\n",
    "print(f\"🤖 Gemini: {response1.text}\\n\")\n",
    "\n",
    "# 第二個對話 - 測試是否記得名字\n",
    "question2 = \"你還記得我的名字嗎？\"\n",
    "response2 = client.models.generate_content(\n",
    "    model=MODEL,\n",
    "    contents=question2  # 注意：這裡只傳送了當前訊息，沒有歷史\n",
    ")\n",
    "print(f\"🧑 用戶: {question2}\")\n",
    "print(f\"🤖 Gemini: {response2.text}\\n\")\n",
    "\n",
    "# 第三個對話 - 測試是否記得職業\n",
    "question3 = \"我的職業是什麼？\"\n",
    "response3 = client.models.generate_content(\n",
    "    model=MODEL,\n",
    "    contents=question3  # 同樣只有當前訊息\n",
    ")\n",
    "print(f\"🧑 用戶: {question3}\")\n",
    "print(f\"🤖 Gemini: {response3.text}\\n\")\n",
    "\n",
    "print(\"❌ 問題：AI 完全不記得之前的對話！\")\n",
    "print(\"💡 原因：每次呼叫 API 都是獨立的，沒有傳送對話歷史\")\n",
    "print(\"🔧 解決方案：我們需要手動管理對話歷史（下一個章節會示範）\")"
   ]
  },
  {
   "cell_type": "markdown",
   "id": "505da3e3",
   "metadata": {},
   "source": [
    "## 4. 解決記憶問題：手動管理對話歷史\n",
    "\n",
    "剛才我們看到 AI 無法記住之前的對話，現在來學習如何解決這個問題！\n",
    "\n",
    "### 💡 核心概念\n",
    "\n",
    "- Gemini API 每次呼叫都是獨立的\n",
    "- 要讓 AI 有記憶，我們必須每次都把完整的對話歷史傳給它\n",
    "- 這需要我們用 Python 程式來管理對話記錄\n"
   ]
  },
  {
   "cell_type": "markdown",
   "id": "b5a7327a",
   "metadata": {},
   "source": [
    "### 調整對話方式 - 使用 Content 和 Part 結構"
   ]
  },
  {
   "cell_type": "code",
   "execution_count": 9,
   "id": "a7828bff",
   "metadata": {},
   "outputs": [
    {
     "name": "stdout",
     "output_type": "stream",
     "text": [
      "🧑 用戶: 我叫小華，我是一名老師\n",
      "🤖 Gemini: 哈囉小華老師，很高興認識你！請問有什麼我可以幫忙的嗎？\n",
      "\n",
      "\n"
     ]
    }
   ],
   "source": [
    "# 調整後對話方式 - 使用 Content 和 Part 結構\n",
    "\n",
    "# 對話 - 自我介紹 (剛剛使用的方式)\n",
    "# question1 = \"我叫小華，我是一名老師\"\n",
    "# response1 = client.models.generate_content(\n",
    "#     model=MODEL,\n",
    "#     contents=question1\n",
    "# )\n",
    "# print(f\"🧑 用戶: {question1}\")\n",
    "# print(f\"🤖 Gemini: {response1.text}\\n\")\n",
    "\n",
    "\n",
    "# 對話 - 自我介紹 (使用 Content 和 Part 結構)\n",
    "question1 = \"我叫小華，我是一名老師\"\n",
    "response1 = client.models.generate_content(\n",
    "    model=MODEL,\n",
    "    contents=[\n",
    "      Content(role=\"user\", parts=[Part(text=question1)])\n",
    "    ]\n",
    ")\n",
    "print(f\"🧑 用戶: {question1}\")\n",
    "print(f\"🤖 Gemini: {response1.text}\\n\")"
   ]
  },
  {
   "cell_type": "code",
   "execution_count": 10,
   "id": "bf3b7035",
   "metadata": {},
   "outputs": [
    {
     "name": "stdout",
     "output_type": "stream",
     "text": [
      "💬 對話歷史記錄已準備就緒！\n",
      "🎯 使用 Gemini API 的正確對話格式：Content + Part\n"
     ]
    }
   ],
   "source": [
    "# 準備對話歷史記錄（使用正確的對話格式）\n",
    "# 使用 Content 和 Part 結構，類似 OpenAI 的 messages 格式\n",
    "conversation_messages = []\n",
    "\n",
    "print(\"💬 對話歷史記錄已準備就緒！\")\n",
    "print(\"🎯 使用 Gemini API 的正確對話格式：Content + Part\")"
   ]
  },
  {
   "cell_type": "code",
   "execution_count": 11,
   "id": "a2df8961",
   "metadata": {},
   "outputs": [
    {
     "name": "stdout",
     "output_type": "stream",
     "text": [
      "=== 測試對話記憶功能（使用 Content + Part 格式）===\n",
      "\n",
      "💬 使用現有的對話歷史記錄\n",
      "🧑 用戶: 我的名字是小明，我喜歡寫程式\n",
      "🤖 AI: 很高興認識你，小明！ 很高興知道你喜歡寫程式。 \n",
      "\n",
      "如果你有任何關於程式的問題，或是想聊聊程式相關的事情，隨時都可以問我喔！ 我可以幫忙：\n",
      "\n",
      "*   提供程式碼範例\n",
      "*   解釋程式概念\n",
      "*   協助 debug\n",
      "*   推薦學習資源\n",
      "*   等等\n",
      "\n",
      "你現在有在學習或開發什麼程式語言或專案嗎？  我很想聽聽看！\n",
      "\n",
      "\n",
      "🧑 用戶: 你還記得我的名字嗎？\n",
      "🤖 AI: 當然！你的名字是小明，而且你喜歡寫程式。 😊\n",
      "\n",
      "\n",
      "🧑 用戶: 我剛才說我喜歡什麼？\n",
      "🤖 AI: 你剛才說你喜歡寫程式。 😉\n",
      "\n",
      "\n",
      "✅ 看到了嗎？AI 記住了我們之前的對話！\n",
      "💡 使用 Content + Part 格式，比字串拼接更專業\n",
      "📊 目前對話歷史有 6 條訊息\n"
     ]
    }
   ],
   "source": [
    "# 測試對話記憶功能 - 使用正確的 API 格式\n",
    "print(\"=== 測試對話記憶功能（使用 Content + Part 格式）===\\n\")\n",
    "\n",
    "# 初始化對話歷史記錄（如果還沒有的話）\n",
    "if 'conversation_messages' not in globals():\n",
    "    conversation_messages = []\n",
    "    print(\"💬 初始化對話歷史記錄（使用 Content 格式）\")\n",
    "else:\n",
    "    print(\"💬 使用現有的對話歷史記錄\")\n",
    "\n",
    "# 第一輪對話 - 自我介紹\n",
    "user_message1 = \"我的名字是小明，我喜歡寫程式\"\n",
    "\n",
    "# 加入用戶訊息到對話歷史\n",
    "conversation_messages.append(\n",
    "    Content(role=\"user\", parts=[Part(text=user_message1)])\n",
    ")\n",
    "\n",
    "# 發送對話（包含完整歷史）\n",
    "response1 = client.models.generate_content(\n",
    "    model=MODEL,\n",
    "    contents=conversation_messages\n",
    ")\n",
    "\n",
    "ai_response1 = response1.text\n",
    "\n",
    "# 加入 AI 回應到對話歷史\n",
    "conversation_messages.append(\n",
    "    Content(role=\"model\", parts=[Part(text=ai_response1)])\n",
    ")\n",
    "\n",
    "print(f\"🧑 用戶: {user_message1}\")\n",
    "print(f\"🤖 AI: {ai_response1}\\n\")\n",
    "\n",
    "# 第二輪對話 - 測試記憶\n",
    "user_message2 = \"你還記得我的名字嗎？\"\n",
    "\n",
    "# 加入用戶訊息\n",
    "conversation_messages.append(\n",
    "    Content(role=\"user\", parts=[Part(text=user_message2)])\n",
    ")\n",
    "\n",
    "# 發送對話（包含完整歷史）\n",
    "response2 = client.models.generate_content(\n",
    "    model=MODEL,\n",
    "    contents=conversation_messages\n",
    ")\n",
    "\n",
    "ai_response2 = response2.text\n",
    "\n",
    "# 加入 AI 回應\n",
    "conversation_messages.append(\n",
    "    Content(role=\"model\", parts=[Part(text=ai_response2)])\n",
    ")\n",
    "\n",
    "print(f\"🧑 用戶: {user_message2}\")\n",
    "print(f\"🤖 AI: {ai_response2}\\n\")\n",
    "\n",
    "# 第三輪對話 - 測試記憶\n",
    "user_message3 = \"我剛才說我喜歡什麼？\"\n",
    "\n",
    "conversation_messages.append(\n",
    "    Content(role=\"user\", parts=[Part(text=user_message3)])\n",
    ")\n",
    "\n",
    "response3 = client.models.generate_content(\n",
    "    model=MODEL,\n",
    "    contents=conversation_messages\n",
    ")\n",
    "\n",
    "ai_response3 = response3.text\n",
    "\n",
    "conversation_messages.append(\n",
    "    Content(role=\"model\", parts=[Part(text=ai_response3)])\n",
    ")\n",
    "\n",
    "print(f\"🧑 用戶: {user_message3}\")\n",
    "print(f\"🤖 AI: {ai_response3}\\n\")\n",
    "\n",
    "print(\"✅ 看到了嗎？AI 記住了我們之前的對話！\")\n",
    "print(\"💡 使用 Content + Part 格式，比字串拼接更專業\")\n",
    "print(f\"📊 目前對話歷史有 {len(conversation_messages)} 條訊息\")"
   ]
  },
  {
   "cell_type": "code",
   "execution_count": 12,
   "id": "5dacce7b",
   "metadata": {},
   "outputs": [
    {
     "name": "stdout",
     "output_type": "stream",
     "text": [
      "=== 查看對話歷史記錄 ===\n",
      "這就是我們儲存的對話內容（Content 格式）：\n",
      "\n",
      "1. 🧑 user: 我的名字是小明，我喜歡寫程式\n",
      "2. 🤖 model: 很高興認識你，小明！ 很高興知道你喜歡寫程式。 \n",
      "\n",
      "如果你有任何關於程式的問題，或是想聊聊程式相關的事情，隨時都可以問我喔！ 我可以幫忙：\n",
      "\n",
      "*   提供程式碼範例\n",
      "*   解釋程式概念\n",
      "*   協助 debug\n",
      "*   推薦學習資源\n",
      "*   等等\n",
      "\n",
      "你現在有在學習或開發什麼程式語言或專案嗎？  我很想聽聽看！\n",
      "\n",
      "3. 🧑 user: 你還記得我的名字嗎？\n",
      "4. 🤖 model: 當然！你的名字是小明，而且你喜歡寫程式。 😊\n",
      "\n",
      "5. 🧑 user: 我剛才說我喜歡什麼？\n",
      "6. 🤖 model: 你剛才說你喜歡寫程式。 😉\n",
      "\n",
      "\n",
      "📊 總共有 6 條對話記錄\n",
      "💡 每次對話時，我們都會把這些 Content 物件傳給 API\n",
      "🎯 這比字串拼接更結構化，API 能更好地理解對話脈絡\n"
     ]
    }
   ],
   "source": [
    "# 查看完整的對話歷史記錄\n",
    "print(\"=== 查看對話歷史記錄 ===\")\n",
    "\n",
    "# 檢查是否有對話歷史\n",
    "if 'conversation_messages' not in globals() or len(conversation_messages) == 0:\n",
    "    print(\"目前沒有對話歷史記錄\")\n",
    "    print(\"💡 請先執行上面的對話測試程式碼\")\n",
    "else:\n",
    "    print(\"這就是我們儲存的對話內容（Content 格式）：\\n\")\n",
    "    for i, message in enumerate(conversation_messages, 1):\n",
    "        role = message.role\n",
    "        text = message.parts[0].text\n",
    "        role_emoji = \"🧑\" if role == \"user\" else \"🤖\"\n",
    "        print(f\"{i}. {role_emoji} {role}: {text}\")\n",
    "    \n",
    "    print(f\"\\n📊 總共有 {len(conversation_messages)} 條對話記錄\")\n",
    "    print(\"💡 每次對話時，我們都會把這些 Content 物件傳給 API\")\n",
    "    print(\"🎯 這比字串拼接更結構化，API 能更好地理解對話脈絡\")"
   ]
  },
  {
   "cell_type": "code",
   "execution_count": 13,
   "id": "303cfad1",
   "metadata": {},
   "outputs": [
    {
     "name": "stdout",
     "output_type": "stream",
     "text": [
      "=== 清除對話歷史 ===\n",
      "🗑️ 對話歷史已清除\n",
      "🧑 用戶: 你還記得我的名字嗎？\n",
      "🤖 AI: 由於我是個大型語言模型，我沒有記憶功能，所以我不記得你的名字。 請告訴我你的名字，我就能記住了。\n",
      "\n",
      "\n",
      "💡 現在 AI 不記得之前的對話了，因為我們清除了歷史記錄\n",
      "💡 如果要重新開始有記憶的對話，請執行上面的對話測試程式碼\n"
     ]
    }
   ],
   "source": [
    "# 清除對話歷史\n",
    "print(\"=== 清除對話歷史 ===\")\n",
    "\n",
    "# 檢查並初始化 conversation_messages\n",
    "if 'conversation_messages' not in globals():\n",
    "    conversation_messages = []\n",
    "    print(\"💬 初始化空的對話歷史記錄\")\n",
    "else:\n",
    "    conversation_messages.clear()  # 清空列表\n",
    "    print(\"🗑️ 對話歷史已清除\")\n",
    "\n",
    "# 測試清除後的對話\n",
    "user_message4 = \"你還記得我的名字嗎？\"\n",
    "\n",
    "# 建立新的對話（沒有歷史）\n",
    "test_message = Content(role=\"user\", parts=[Part(text=user_message4)])\n",
    "\n",
    "response4 = client.models.generate_content(\n",
    "    model=MODEL,\n",
    "    contents=[test_message]  # 只傳送當前訊息\n",
    ")\n",
    "\n",
    "print(f\"🧑 用戶: {user_message4}\")\n",
    "print(f\"🤖 AI: {response4.text}\")\n",
    "print(\"\\n💡 現在 AI 不記得之前的對話了，因為我們清除了歷史記錄\")\n",
    "print(\"💡 如果要重新開始有記憶的對話，請執行上面的對話測試程式碼\")"
   ]
  },
  {
   "cell_type": "markdown",
   "id": "1d4fd231",
   "metadata": {},
   "source": [
    "## 🎯 第一課重點總結\n",
    "\n",
    "### 我們學會了什麼？\n",
    "\n",
    "1. **安裝和設定 AI API**\n",
    "   - 安裝 `google-genai` 和 `python-dotenv` 套件\n",
    "   - 設定 `.env` 檔案管理敏感資訊\n",
    "   - 從環境變數讀取 API 金鑰和模型設定\n",
    "   - 初始化客戶端\n",
    "\n",
    "2. **基本對話功能**\n",
    "   - 使用 `client.models.generate_content()` 發送訊息\n",
    "   - 動態指定模型（可隨時更換）\n",
    "   - 取得 AI 回應\n",
    "\n",
    "3. **實現對話記憶（正確格式）**\n",
    "   - 使用 `Content` 和 `Part` 結構儲存對話\n",
    "   - 比字串拼接更專業和結構化\n",
    "   - 支援多模態擴展"
   ]
  }
 ],
 "metadata": {
  "kernelspec": {
   "display_name": "Python 3 (ipykernel)",
   "language": "python",
   "name": "python3"
  },
  "language_info": {
   "codemirror_mode": {
    "name": "ipython",
    "version": 3
   },
   "file_extension": ".py",
   "mimetype": "text/x-python",
   "name": "python",
   "nbconvert_exporter": "python",
   "pygments_lexer": "ipython3",
   "version": "3.10.18"
  }
 },
 "nbformat": 4,
 "nbformat_minor": 5
}
